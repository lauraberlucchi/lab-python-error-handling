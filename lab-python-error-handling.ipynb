{
 "cells": [
  {
   "cell_type": "markdown",
   "id": "25d7736c-ba17-4aff-b6bb-66eba20fbf4e",
   "metadata": {},
   "source": [
    "# Lab | Error Handling"
   ]
  },
  {
   "cell_type": "markdown",
   "id": "bc99b386-7508-47a0-bcdb-d969deaf6c8b",
   "metadata": {},
   "source": [
    "## Exercise: Error Handling for Managing Customer Orders\n",
    "\n",
    "The implementation of your code for managing customer orders assumes that the user will always enter a valid input. \n",
    "\n",
    "For example, we could modify the `initialize_inventory` function to include error handling.\n",
    "   - If the user enters an invalid quantity (e.g., a negative value or a non-numeric value), display an error message and ask them to re-enter the quantity for that product.\n",
    "   - Use a try-except block to handle the error and continue prompting the user until a valid quantity is entered.\n",
    "\n",
    "```python\n",
    "# Step 1: Define the function for initializing the inventory with error handling\n",
    "def initialize_inventory(products):\n",
    "    inventory = {}\n",
    "    for product in products:\n",
    "        valid_quantity = False\n",
    "        while not valid_quantity:\n",
    "            try:\n",
    "                quantity = int(input(f\"Enter the quantity of {product}s available: \"))\n",
    "                if quantity < 0:\n",
    "                    raise ValueError(\"Invalid quantity! Please enter a non-negative value.\")\n",
    "                valid_quantity = True\n",
    "            except ValueError as error:\n",
    "                print(f\"Error: {error}\")\n",
    "        inventory[product] = quantity\n",
    "    return inventory\n",
    "\n",
    "# Or, in another way:\n",
    "\n",
    "def initialize_inventory(products):\n",
    "    inventory = {}\n",
    "    for product in products:\n",
    "        valid_input = False\n",
    "        while not valid_input:\n",
    "            try:\n",
    "                quantity = int(input(f\"Enter the quantity of {product}s available: \"))\n",
    "                if quantity >= 0:\n",
    "                    inventory[product] = quantity\n",
    "                    valid_input = True\n",
    "                else:\n",
    "                    print(\"Quantity cannot be negative. Please enter a valid quantity.\")\n",
    "            except ValueError:\n",
    "                print(\"Invalid input. Please enter a valid quantity.\")\n",
    "    return inventory\n",
    "```\n",
    "\n",
    "Let's enhance your code by implementing error handling to handle invalid inputs.\n",
    "\n",
    "Follow the steps below to complete the exercise:\n",
    "\n",
    "2. Modify the `calculate_total_price` function to include error handling.\n",
    "   - If the user enters an invalid price (e.g., a negative value or a non-numeric value), display an error message and ask them to re-enter the price for that product.\n",
    "   - Use a try-except block to handle the error and continue prompting the user until a valid price is entered.\n",
    "\n",
    "3. Modify the `get_customer_orders` function to include error handling.\n",
    "   - If the user enters an invalid number of orders (e.g., a negative value or a non-numeric value), display an error message and ask them to re-enter the number of orders.\n",
    "   - If the user enters an invalid product name (e.g., a product name that is not in the inventory), or that doesn't have stock available, display an error message and ask them to re-enter the product name. *Hint: you will need to pass inventory as a parameter*\n",
    "   - Use a try-except block to handle the error and continue prompting the user until a valid product name is entered.\n",
    "\n",
    "4. Test your code by running the program and deliberately entering invalid quantities and product names. Make sure the error handling mechanism works as expected.\n"
   ]
  },
  {
   "cell_type": "code",
   "execution_count": 4,
   "id": "d7956c72",
   "metadata": {},
   "outputs": [
    {
     "name": "stdout",
     "output_type": "stream",
     "text": [
      "Enter a quantity for t-shirt in stock 1\n",
      "Enter a quantity for mug in stock 4\n",
      "Enter a quantity for hat in stock 0\n",
      "Invalid input. Please enter a positive number\n",
      "Enter a quantity for hat in stock 5\n",
      "Enter a quantity for book in stock cioc\n",
      "Invalid input. Please enter a positive number\n",
      "Enter a quantity for book in stock -9\n",
      "Invalid input. Please enter a positive number\n",
      "Enter a quantity for book in stock 6\n",
      "Enter a quantity for keychain in stock 7\n",
      "{'t-shirt': 1, 'mug': 4, 'hat': 5, 'book': 6, 'keychain': 7}\n"
     ]
    }
   ],
   "source": [
    "products=[\"t-shirt\", \"mug\", \"hat\", \"book\", \"keychain\"]\n",
    "\n",
    "def initialize_inventory(products):\n",
    "        inventory = {}\n",
    "        for product in products:\n",
    "            valid_quantity = False\n",
    "            while not valid_quantity:\n",
    "                try:\n",
    "                    quantity = int(input(f'Enter a quantity for {product} in stock '))\n",
    "                    if quantity > 0:\n",
    "                        inventory[product] = quantity\n",
    "                        valid_quantity = True\n",
    "                    else:\n",
    "                        print('Invalid input. Please enter a positive number')\n",
    "                except ValueError:\n",
    "                    print('Invalid input. Please enter a positive number')\n",
    "        return inventory\n",
    "\n",
    "inventory = initialize_inventory(products)\n",
    "print(inventory)\n",
    "        "
   ]
  },
  {
   "cell_type": "code",
   "execution_count": 3,
   "id": "e0722419",
   "metadata": {},
   "outputs": [
    {
     "name": "stdout",
     "output_type": "stream",
     "text": [
      "Enter the number of customer orders: 3\n",
      "Enter the name of the product you want to order: -9\n",
      "Invalid input.\n",
      "Enter the name of the product you want to order: cioc\n",
      "Invalid input.\n",
      "Enter the name of the product you want to order: mug\n",
      "Enter the name of the product you want to order: hat\n",
      "Enter the name of the product you want to order: book\n",
      "{'mug', 'hat', 'book'}\n"
     ]
    }
   ],
   "source": [
    "inventory \n",
    "products\n",
    "\n",
    "def get_customer_orders(inventory):\n",
    "    \n",
    "    customer_orders=set()\n",
    "    valid_number = False\n",
    "    while not valid_number:\n",
    "        try:\n",
    "            input_number_orders = int(input('Enter the number of customer orders: '))\n",
    "            if input_number_orders > 0:\n",
    "                valid_number = True\n",
    "            else:\n",
    "                print('Invalid input. Please enter a positive number.')\n",
    "        except ValueError:\n",
    "            print('Invalid input. Please enter a positve number.')\n",
    "   \n",
    "    for i in range(input_number_orders):\n",
    "        valid_product = False\n",
    "        while not valid_product:\n",
    "            try:\n",
    "                ordered_product = input('Enter the name of the product you want to order: ')\n",
    "                if inventory[ordered_product] > 0:\n",
    "                    customer_orders.add(ordered_product)\n",
    "                    valid_product = True\n",
    "                else:\n",
    "                    print('Sorry, this product is out of stock at the moment. Please enter a product in stock.')\n",
    "            except KeyError:\n",
    "                print ('Invalid input. This is not a name of a product in inventory')\n",
    "                \n",
    "    return customer_orders\n",
    "            \n",
    "    \n",
    "customer_orders = get_customer_orders(inventory)\n",
    "print(customer_orders)\n",
    "\n",
    "            "
   ]
  },
  {
   "cell_type": "code",
   "execution_count": 6,
   "id": "cd6460b8",
   "metadata": {},
   "outputs": [
    {
     "name": "stdout",
     "output_type": "stream",
     "text": [
      "Enter the price for a unit of mug: 5\n",
      "Enter the price for a unit of hat: cioc\n",
      "Please enter a valid price value.\n",
      "Enter the price for a unit of hat: -0\n",
      "Please enter a valid price value.\n",
      "Enter the price for a unit of hat: 7\n",
      "Enter the price for a unit of book: 0\n",
      "Please enter a valid price value.\n",
      "Enter the price for a unit of book: 6\n",
      "18\n"
     ]
    }
   ],
   "source": [
    "def calculate_total_price(customer_orders):\n",
    "    total_price = 0\n",
    "    for product in customer_orders:\n",
    "        valid_price = False\n",
    "        while not valid_price:\n",
    "            try:\n",
    "                price = int(input(f'Enter the price for a unit of {product}: '))\n",
    "                if price > 0:\n",
    "                    valid_price = True\n",
    "                else:\n",
    "                    print('Please enter a valid price value.')\n",
    "            except ValueError:\n",
    "                print('Please enter a valid price value.')\n",
    "        \n",
    "        total_price += price\n",
    "\n",
    "    return total_price\n",
    "\n",
    "total_price=calculate_total_price(customer_orders)\n",
    "print(total_price)\n"
   ]
  },
  {
   "cell_type": "code",
   "execution_count": null,
   "id": "2e52e6df",
   "metadata": {},
   "outputs": [],
   "source": []
  },
  {
   "cell_type": "code",
   "execution_count": null,
   "id": "d5fe9048",
   "metadata": {},
   "outputs": [],
   "source": []
  },
  {
   "cell_type": "code",
   "execution_count": null,
   "id": "8853e13f",
   "metadata": {},
   "outputs": [],
   "source": []
  }
 ],
 "metadata": {
  "kernelspec": {
   "display_name": "Python 3 (ipykernel)",
   "language": "python",
   "name": "python3"
  },
  "language_info": {
   "codemirror_mode": {
    "name": "ipython",
    "version": 3
   },
   "file_extension": ".py",
   "mimetype": "text/x-python",
   "name": "python",
   "nbconvert_exporter": "python",
   "pygments_lexer": "ipython3",
   "version": "3.11.4"
  }
 },
 "nbformat": 4,
 "nbformat_minor": 5
}
